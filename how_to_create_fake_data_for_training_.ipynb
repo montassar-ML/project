{
  "nbformat": 4,
  "nbformat_minor": 0,
  "metadata": {
    "colab": {
      "provenance": [],
      "authorship_tag": "ABX9TyPhTfPDiuZjaXTp8RDr3WPB",
      "include_colab_link": true
    },
    "kernelspec": {
      "name": "python3",
      "display_name": "Python 3"
    },
    "language_info": {
      "name": "python"
    }
  },
  "cells": [
    {
      "cell_type": "markdown",
      "metadata": {
        "id": "view-in-github",
        "colab_type": "text"
      },
      "source": [
        "<a href=\"https://colab.research.google.com/github/montassar-ML/project/blob/main/how_to_create_fake_data_for_training_.ipynb\" target=\"_parent\"><img src=\"https://colab.research.google.com/assets/colab-badge.svg\" alt=\"Open In Colab\"/></a>"
      ]
    },
    {
      "cell_type": "code",
      "execution_count": 1,
      "metadata": {
        "id": "dSq52BwKQGQe"
      },
      "outputs": [],
      "source": [
        "import pandas as pd\n",
        "import numpy as np\n",
        "\n",
        "# Define the column names\n",
        "column_names = [\n",
        "    'Crude_Oil_API_Gravity',\n",
        "    'Crude_Oil_Sulfur_Content',\n",
        "    'Crude_Oil_Nitrogen_Content',\n",
        "    'Crude_Oil_Water_Content',\n",
        "    'Temperature_Inlet',\n",
        "    'Temperature_Outlet',\n",
        "    'Pressure_Inlet',\n",
        "    'Pressure_Outlet',\n",
        "    'Flow_Rate_Inlet',\n",
        "    'Flow_Rate_Outlet',\n",
        "    'Residence_Time',\n",
        "    'Product_Yield_Gasoline',\n",
        "    'Product_Yield_Diesel',\n",
        "    'Product_Yield_Jet_Fuel',\n",
        "    'Product_Yield_Heavy_Fuel_Oil'\n",
        "]\n",
        "\n",
        "# Generate fake data using numpy's random functions\n",
        "data = {\n",
        "    'Crude_Oil_API_Gravity': np.random.uniform(20, 40, 10000),\n",
        "    'Crude_Oil_Sulfur_Content': np.random.uniform(0.5, 2.5, 10000),\n",
        "    'Crude_Oil_Nitrogen_Content': np.random.uniform(0.1, 1.5, 10000),\n",
        "    'Crude_Oil_Water_Content': np.random.uniform(0.5, 5.0, 10000),\n",
        "    'Temperature_Inlet': np.random.uniform(150, 250, 10000),\n",
        "    'Temperature_Outlet': np.random.uniform(100, 200, 10000),\n",
        "    'Pressure_Inlet': np.random.uniform(10, 50, 10000),\n",
        "    'Pressure_Outlet': np.random.uniform(5, 30, 10000),\n",
        "    'Flow_Rate_Inlet': np.random.uniform(100, 500, 10000),\n",
        "    'Flow_Rate_Outlet': np.random.uniform(50, 300, 10000),\n",
        "    'Residence_Time': np.random.uniform(10, 60, 10000),\n",
        "    'Product_Yield_Gasoline': np.random.uniform(0.2, 0.6, 10000),\n",
        "    'Product_Yield_Diesel': np.random.uniform(0.3, 0.7, 10000),\n",
        "    'Product_Yield_Jet_Fuel': np.random.uniform(0.2, 0.5, 10000),\n",
        "    'Product_Yield_Heavy_Fuel_Oil': np.random.uniform(0.1, 0.4, 10000)\n",
        "}\n",
        "\n",
        "# Create a pandas DataFrame\n",
        "df = pd.DataFrame(data, columns=column_names)\n",
        "\n",
        "# Save the DataFrame to a CSV file\n",
        "df.to_csv('crude_oil_separation_data.csv', index=False)"
      ]
    },
    {
      "cell_type": "code",
      "source": [
        "import os\n",
        "\n",
        "# Get the home directory of the current user\n",
        "home_path = os.path.expanduser('~')\n",
        "\n",
        "# Construct the path to the output file in the home directory\n",
        "output_file_path = os.path.join(home_path, 'crude_oil_separation_data.csv')\n",
        "\n",
        "# Save the DataFrame to the CSV file in the home directory\n",
        "df.to_csv(output_file_path, index=False)"
      ],
      "metadata": {
        "id": "Giy4V4vaQHhQ"
      },
      "execution_count": 4,
      "outputs": []
    },
    {
      "cell_type": "code",
      "source": [
        "import os\n",
        "\n",
        "# Get the home directory of the current user\n",
        "home_path = os.path.expanduser('~')\n",
        "\n",
        "# Construct the path to the output file in the home directory\n",
        "output_file_path = os.path.join(home_path, 'crude_oil_separation_data.csv')\n",
        "\n",
        "# Check if the file exists\n",
        "if os.path.exists(output_file_path):\n",
        "    print(\"File saved successfully at:\", output_file_path)\n",
        "else:\n",
        "    print(\"File not found. There might have been an error during saving.\")"
      ],
      "metadata": {
        "colab": {
          "base_uri": "https://localhost:8080/"
        },
        "id": "3zp4LEjgRG2P",
        "outputId": "acb6cd23-f94b-4dd0-a397-0bd692be6f6e"
      },
      "execution_count": 5,
      "outputs": [
        {
          "output_type": "stream",
          "name": "stdout",
          "text": [
            "File saved successfully at: /root/crude_oil_separation_data.csv\n"
          ]
        }
      ]
    },
    {
      "cell_type": "code",
      "source": [],
      "metadata": {
        "id": "teiaZRXMRguZ"
      },
      "execution_count": null,
      "outputs": []
    }
  ]
}